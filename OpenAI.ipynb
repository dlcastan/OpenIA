{
  "cells": [
    {
      "cell_type": "markdown",
      "metadata": {
        "id": "ppKHJCeuIxUD"
      },
      "source": [
        "# OpenIA\n",
        "\n",
        "**Autor:** Diego Lopez Castan\n",
        "\n",
        "**URL:** https://diegolopezcastan.com/"
      ]
    },
    {
      "cell_type": "code",
      "execution_count": null,
      "metadata": {
        "colab": {
          "base_uri": "https://localhost:8080/"
        },
        "id": "F6YBySuvI2s0",
        "outputId": "b1d4e7f3-e598-4e91-d73b-cf9d89019441"
      },
      "outputs": [
        {
          "name": "stdout",
          "output_type": "stream",
          "text": [
            "Looking in indexes: https://pypi.org/simple, https://us-python.pkg.dev/colab-wheels/public/simple/\n",
            "Requirement already satisfied: openai in /usr/local/lib/python3.10/dist-packages (0.27.6)\n",
            "Requirement already satisfied: requests>=2.20 in /usr/local/lib/python3.10/dist-packages (from openai) (2.27.1)\n",
            "Requirement already satisfied: tqdm in /usr/local/lib/python3.10/dist-packages (from openai) (4.65.0)\n",
            "Requirement already satisfied: aiohttp in /usr/local/lib/python3.10/dist-packages (from openai) (3.8.4)\n",
            "Requirement already satisfied: charset-normalizer~=2.0.0 in /usr/local/lib/python3.10/dist-packages (from requests>=2.20->openai) (2.0.12)\n",
            "Requirement already satisfied: certifi>=2017.4.17 in /usr/local/lib/python3.10/dist-packages (from requests>=2.20->openai) (2022.12.7)\n",
            "Requirement already satisfied: idna<4,>=2.5 in /usr/local/lib/python3.10/dist-packages (from requests>=2.20->openai) (3.4)\n",
            "Requirement already satisfied: urllib3<1.27,>=1.21.1 in /usr/local/lib/python3.10/dist-packages (from requests>=2.20->openai) (1.26.15)\n",
            "Requirement already satisfied: aiosignal>=1.1.2 in /usr/local/lib/python3.10/dist-packages (from aiohttp->openai) (1.3.1)\n",
            "Requirement already satisfied: multidict<7.0,>=4.5 in /usr/local/lib/python3.10/dist-packages (from aiohttp->openai) (6.0.4)\n",
            "Requirement already satisfied: async-timeout<5.0,>=4.0.0a3 in /usr/local/lib/python3.10/dist-packages (from aiohttp->openai) (4.0.2)\n",
            "Requirement already satisfied: attrs>=17.3.0 in /usr/local/lib/python3.10/dist-packages (from aiohttp->openai) (23.1.0)\n",
            "Requirement already satisfied: yarl<2.0,>=1.0 in /usr/local/lib/python3.10/dist-packages (from aiohttp->openai) (1.9.2)\n",
            "Requirement already satisfied: frozenlist>=1.1.1 in /usr/local/lib/python3.10/dist-packages (from aiohttp->openai) (1.3.3)\n"
          ]
        }
      ],
      "source": [
        "# Instalar OpenIA\n",
        "!pip install openai"
      ]
    },
    {
      "cell_type": "code",
      "execution_count": null,
      "metadata": {
        "id": "IqMBCYxgpQ1O"
      },
      "outputs": [],
      "source": [
        "# Importar librerias\n",
        "import os\n",
        "import openai"
      ]
    },
    {
      "cell_type": "code",
      "execution_count": null,
      "metadata": {
        "id": "ZDGpAcu8rEz6"
      },
      "outputs": [],
      "source": [
        "# Keys OpenIA\n",
        "openai.api_key = \"INGRESA_TU_KEY_AQUI\"\n",
        "MODEL_ENGINE = \"text-davinci-003\"\n",
        "MAX_TOKENS = 4000"
      ]
    },
    {
      "cell_type": "code",
      "execution_count": null,
      "metadata": {
        "cellView": "form",
        "id": "d_u2QQ6_TGVD"
      },
      "outputs": [],
      "source": [
        "# Ingresar el prompt\n",
        "\n",
        "from IPython.display import clear_output\n",
        "import time\n",
        "\n",
        "#@markdown # Ingrese el prompt 👇\n",
        "\n",
        "text = \"\\xBFCuales son los principales tipos de inteligencia artificial?\" #@param {type:\"string\"}\n"
      ]
    },
    {
      "cell_type": "code",
      "execution_count": null,
      "metadata": {
        "id": "Wb2zjSpbTbRI"
      },
      "outputs": [],
      "source": [
        "# Enviar consulta a Open IA\n",
        "\n",
        "response = openai.Completion.create(\n",
        "    engine= MODEL_ENGINE,\n",
        "    prompt= texto,\n",
        "    max_tokens= MAX_TOKENS\n",
        "\n",
        ")"
      ]
    },
    {
      "cell_type": "code",
      "execution_count": null,
      "metadata": {
        "id": "2AvOWWf_kElb"
      },
      "outputs": [],
      "source": [
        "message = response.choices[0].text"
      ]
    },
    {
      "cell_type": "code",
      "execution_count": null,
      "metadata": {
        "colab": {
          "base_uri": "https://localhost:8080/"
        },
        "id": "hduPYdcnuMpd",
        "outputId": "82aab999-0c65-47d9-8ede-aca06499f4e1"
      },
      "outputs": [
        {
          "name": "stdout",
          "output_type": "stream",
          "text": [
            "\n",
            "\n",
            "1. Inteligencia Artificial Convencional (AIC): Esta tecnología se refiere al uso de algoritmos y programación para lograr tareas predefinidas. Utiliza una variedad de bases de datos, lógica y algoritmos para lograr tareas comunes.\n",
            "\n",
            "2. Inteligencia Artificial Fuerte (AGI): Esta es un área de investigación que aspira a crear una inteligencia que iguala o mejora la inteligencia humana. AGI busca recrear y modelar tareas humanas y darles capacidades, habilidades y funcionalidad similares a la de un humano.\n",
            "\n",
            "3. Inteligencia Artificial Emocional (AIE): Esta disciplina de investigación se centra en simular aspectos afectivos y emocionales de los seres humanos. Una de sus principales aplicaciones es intentar que las máquinas respondan a los estímulos del mundo real e interactúen con los usuarios desde un punto de vista emocional.\n",
            "\n",
            "4. Inteligencia Artificial Biotecnológica (AIB): Esta disciplina se enfoca en la biotecnología aplicada a la inteligencia artificial. AIB está desarrollando tecnologías como la informática médica, la predicción de comportamiento y modelos, la visión artificial, el análisis predictivo, la inferencia y el diagnóstico basado en patrones.\n"
          ]
        }
      ],
      "source": [
        "# Imprimir respuesta\n",
        "\n",
        "print(message)"
      ]
    }
  ],
  "metadata": {
    "colab": {
      "provenance": []
    },
    "kernelspec": {
      "display_name": "Python 3",
      "name": "python3"
    },
    "language_info": {
      "name": "python"
    }
  },
  "nbformat": 4,
  "nbformat_minor": 0
}
